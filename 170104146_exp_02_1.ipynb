{
  "nbformat": 4,
  "nbformat_minor": 0,
  "metadata": {
    "colab": {
      "name": "Copy_of_Experiment1_new1-1.ipynb",
      "provenance": [],
      "collapsed_sections": []
    },
    "kernelspec": {
      "name": "python3",
      "display_name": "Python 3"
    },
    "language_info": {
      "name": "python"
    }
  },
  "cells": [
    {
      "cell_type": "code",
      "metadata": {
        "id": "Y7AN6evIbjLE",
        "colab": {
          "base_uri": "https://localhost:8080/"
        },
        "outputId": "e3b150db-965e-44b4-fd85-eacec2c49443"
      },
      "source": [
        "from google.colab import drive\n",
        "drive.mount('/content/drive')"
      ],
      "execution_count": null,
      "outputs": [
        {
          "output_type": "stream",
          "name": "stdout",
          "text": [
            "Mounted at /content/gdrive\n"
          ]
        }
      ]
    },
    {
      "cell_type": "code",
      "metadata": {
        "id": "mvx7NpXA3X8q"
      },
      "source": [
        "import numpy as np\n",
        "import pandas as pd \n",
        "\n",
        "import torch\n",
        "import torch.nn as nn\n",
        "from torchvision import datasets, transforms, models\n",
        "from torch.autograd import Variable\n",
        "from matplotlib import pyplot as plt\n",
        "from numpy import mean\n",
        "import os\n",
        "from PIL import Image"
      ],
      "execution_count": null,
      "outputs": []
    },
    {
      "cell_type": "code",
      "metadata": {
        "id": "lL3gJvjlzuxt"
      },
      "source": [
        "test_data =pd.read_csv('/content/drive/MyDrive/soft com lab/Dataset_2/verification_test.csv')\n",
        "train_data = pd.read_csv('/content/drive/MyDrive/soft com lab/Dataset_2/verification_train.csv')\n"
      ],
      "execution_count": null,
      "outputs": []
    },
    {
      "cell_type": "code",
      "metadata": {
        "id": "D3Z_8Z2hBlgh"
      },
      "source": [
        "test_label=test_data['label']\n",
        "\n",
        "train_label=train_data['label']\n",
        "data_names=[test_label,train_label]\n",
        "all_labels=pd.concat(data_names,ignore_index=True)"
      ],
      "execution_count": null,
      "outputs": []
    },
    {
      "cell_type": "code",
      "metadata": {
        "colab": {
          "base_uri": "https://localhost:8080/"
        },
        "id": "JfuGT-iU0CZR",
        "outputId": "fafc2d1a-3edc-44da-bd06-8039541e13d7"
      },
      "source": [
        "data_name=[test_data,train_data]\n",
        "all_image=pd.concat(data_name,ignore_index=True)\n",
        "all_image=all_image.drop(labels='label',axis=1)\n",
        "print(all_image.shape)"
      ],
      "execution_count": null,
      "outputs": [
        {
          "output_type": "stream",
          "name": "stdout",
          "text": [
            "(70000, 784)\n"
          ]
        }
      ]
    },
    {
      "cell_type": "code",
      "metadata": {
        "id": "FIHcoYx_0JGj"
      },
      "source": [
        "all_image=all_image/255.0\n",
        "all_image=all_image.values.reshape(-1,28,28,1)"
      ],
      "execution_count": null,
      "outputs": []
    },
    {
      "cell_type": "code",
      "metadata": {
        "colab": {
          "base_uri": "https://localhost:8080/",
          "height": 283
        },
        "id": "Z0tXH6Ml4Pa-",
        "outputId": "a9be13cb-b3a9-4cf9-b8f5-10154d1bf39d"
      },
      "source": [
        "import matplotlib.pyplot as plt \n",
        "import numpy as np\n",
        "\n",
        "show_img = all_image[0].reshape(28, 28)\n",
        "plt.imshow(show_img, cmap='gray')\n",
        "print(all_labels[0])"
      ],
      "execution_count": null,
      "outputs": [
        {
          "output_type": "stream",
          "name": "stdout",
          "text": [
            "0\n"
          ]
        },
        {
          "output_type": "display_data",
          "data": {
            "image/png": "[encoded data removed]",
            "text/plain": [
              "<Figure size 432x288 with 1 Axes>"
            ]
          },
          "metadata": {
            "needs_background": "light"
          }
        }
      ]
    },
    {
      "cell_type": "code",
      "metadata": {
        "id": "O_G9WsLe3lWX"
      },
      "source": [
        "from sklearn.model_selection import train_test_split\n",
        "X_train, X_test, y_train, y_test = train_test_split(all_image, all_labels, test_size=0.2)"
      ],
      "execution_count": null,
      "outputs": []
    },
    {
      "cell_type": "code",
      "metadata": {
        "colab": {
          "base_uri": "https://localhost:8080/"
        },
        "id": "SbUQQS734cfO",
        "outputId": "7719ca7a-b542-449a-f690-0136413401d5"
      },
      "source": [
        "train_dataset = list(zip(X_train,y_train))\n",
        "test_dataset = list(zip(X_test,y_test))\n",
        "print(len(train_dataset))\n",
        "print(len(test_dataset))\n"
      ],
      "execution_count": null,
      "outputs": [
        {
          "output_type": "stream",
          "name": "stdout",
          "text": [
            "56000\n",
            "14000\n"
          ]
        }
      ]
    },
    {
      "cell_type": "code",
      "metadata": {
        "id": "F-sZnYMr5wKG"
      },
      "source": [
        "import torch\n",
        "import torch.nn as nn\n",
        "import torchvision.transforms as transforms\n",
        "import torchvision.datasets as dsets\n",
        "\n",
        "# Hyperparameters\n",
        "batch_size = 20\n",
        "num_iters = 20000\n",
        "input_dim = 28*28 # num_features = 784\n",
        "num_hidden = 200\n",
        "output_dim = 10\n",
        "num_epochs = num_iters / (len(train_dataset) / batch_size)\n",
        "num_epochs = int(num_epochs)\n",
        "learning_rate = 0.01\n",
        "\n",
        "# Device\n",
        "device = torch.device(\"cuda:0\" if torch.cuda.is_available() else \"cpu\")\n",
        "\n",
        "\n",
        "\n",
        "train_loader = torch.utils.data.DataLoader(dataset=train_dataset, \n",
        "                                           batch_size=batch_size, \n",
        "                                           shuffle=True)   # It's better to shuffle the whole training dataset! \n",
        "\n",
        "test_loader = torch.utils.data.DataLoader(dataset=test_dataset, \n",
        "                                          batch_size=batch_size, \n",
        "                                          shuffle=False) \n"
      ],
      "execution_count": null,
      "outputs": []
    },
    {
      "cell_type": "code",
      "metadata": {
        "id": "USxYOPJvMCVh",
        "colab": {
          "base_uri": "https://localhost:8080/"
        },
        "outputId": "d00b494a-0176-4a7b-91b0-645b37cf8ecc"
      },
      "source": [
        "#import torch.nn as nn\n",
        "class DeepNeuralNetworkModel(nn.Module):\n",
        "    def __init__(self, input_size, num_classes, num_hidden):\n",
        "        super().__init__()\n",
        "       \n",
        "        self.linear_1 = nn.Linear(input_size, num_hidden)\n",
        "        \n",
        "        self.relu_1 = nn.ReLU()\n",
        " \n",
        "        \n",
        "        self.linear_2 = nn.Linear(num_hidden, num_hidden)\n",
        "        \n",
        "        self.relu_2 = nn.ReLU()\n",
        " \n",
        "        \n",
        "        self.linear_3 = nn.Linear(num_hidden, num_hidden)\n",
        "        \n",
        "        self.relu_3 = nn.ReLU()\n",
        " \n",
        "         \n",
        "        self.linear_4 = nn.Linear(num_hidden, num_hidden)\n",
        "        \n",
        "        self.relu_4 = nn.ReLU()\n",
        " \n",
        "         \n",
        "        self.linear_5= nn.Linear(num_hidden, num_hidden)\n",
        "        \n",
        "        self.relu_5= nn.ReLU()\n",
        " \n",
        "         \n",
        "        self.linear_6 = nn.Linear(num_hidden, num_hidden)\n",
        "        \n",
        "        self.relu_6 = nn.ReLU()\n",
        " \n",
        "        \n",
        "        self.linear_out = nn.Linear(num_hidden, num_classes)\n",
        " \n",
        "    def forward(self, x):\n",
        "        ### 1st hidden layer\n",
        "        out  = self.linear_1(x)\n",
        "        ### Non-linearity in 1st hidden layer\n",
        "        out = self.relu_1(out)\n",
        "        \n",
        "        ### 2nd hidden layer\n",
        "        out  = self.linear_2(out)\n",
        "        ### Non-linearity in 2nd hidden layer\n",
        "        out = self.relu_2(out)\n",
        " \n",
        "        ### 3rd hidden layer\n",
        "        out  = self.linear_3(out)\n",
        "        ### Non-linearity in 3rd hidden layer\n",
        "        out = self.relu_3(out)\n",
        " \n",
        "        out  = self.linear_4(out)\n",
        "        ### Non-linearity in 3rd hidden layer\n",
        "        out = self.relu_4(out)\n",
        " \n",
        "        out  = self.linear_5(out)\n",
        "        ### Non-linearity in 3rd hidden layer\n",
        "        out = self.relu_5(out)\n",
        " \n",
        "        out  = self.linear_6(out)\n",
        "        ### Non-linearity in 3rd hidden layer\n",
        "        out = self.relu_6(out)\n",
        "        \n",
        "        # Linear layer (output)\n",
        "        probas  = self.linear_out(out)\n",
        "        return probas\n",
        " \n",
        "# INSTANTIATE MODEL CLASS\n",
        " \n",
        "model = DeepNeuralNetworkModel(input_size = input_dim,\n",
        "                               num_classes = output_dim,\n",
        "                               num_hidden = num_hidden)\n",
        "# To enable GPU\n",
        "model.to(device)\n",
        " \n",
        "# INSTANTIATE LOSS & OPTIMIZER CLASS\n",
        "criterion = nn.CrossEntropyLoss()\n",
        "optimizer = torch.optim.SGD(model.parameters(), lr=learning_rate)\n",
        "Iteration_loss =[]\n",
        "iter = 0\n",
        "for epoch in range(num_epochs):\n",
        "    for i, (images, labels) in enumerate(train_loader):\n",
        " \n",
        "        images = images.view(-1, 28*28).to(device)\n",
        "        labels = labels.to(device)\n",
        " \n",
        "        # Clear gradients w.r.t. parameters\n",
        "        optimizer.zero_grad()\n",
        " \n",
        "        # Forward pass to get output/logits\n",
        "        outputs = model(images.float()) \n",
        " \n",
        "        # Calculate Loss: softmax --> cross entropy loss\n",
        "        loss = criterion(outputs, labels)\n",
        " \n",
        "        # Getting gradients w.r.t. parameters\n",
        "        loss.backward()\n",
        " \n",
        "        # Updating parameters\n",
        "        optimizer.step()\n",
        " \n",
        "        iter += 1\n",
        " \n",
        "        if iter % 500 == 0:\n",
        "            # Calculate Accuracy         \n",
        "            correct = 0\n",
        "            total = 0\n",
        "            # Iterate through test dataset\n",
        "            for images, labels in test_loader:\n",
        "               \n",
        "                images = images.view(-1, 28*28).to(device)\n",
        " \n",
        "                # Forward pass only to get logits/output\n",
        "                outputs = model(images.float())\n",
        " \n",
        "                # Get predictions from the maximum value\n",
        "                _, predicted = torch.max(outputs, 1)\n",
        " \n",
        "                # Total number of labels\n",
        "                total += labels.size(0)\n",
        " \n",
        " \n",
        "                # Total correct predictions\n",
        "                if torch.cuda.is_available():\n",
        "                    correct += (predicted.cpu() == labels.cpu()).sum() \n",
        "                else:\n",
        "                    correct += (predicted == labels).sum()\n",
        " \n",
        "            accuracy = 100 * correct.item() / total\n",
        " \n",
        "            # Print Loss\n",
        "            Iteration_loss.append(loss.item())\n",
        "            print('Iteration: {}. Loss: {}. Accuracy: {}'.format(iter, loss.item(), accuracy))"
      ],
      "execution_count": null,
      "outputs": [
        {
          "output_type": "stream",
          "name": "stdout",
          "text": [
            "Iteration: 500. Loss: 2.292344570159912. Accuracy: 9.821428571428571\n",
            "Iteration: 1000. Loss: 2.2913756370544434. Accuracy: 9.9\n",
            "Iteration: 1500. Loss: 2.2962594032287598. Accuracy: 18.228571428571428\n",
            "Iteration: 2000. Loss: 2.293536424636841. Accuracy: 18.564285714285713\n",
            "Iteration: 2500. Loss: 2.2588255405426025. Accuracy: 19.178571428571427\n",
            "Iteration: 3000. Loss: 2.0283923149108887. Accuracy: 25.685714285714287\n",
            "Iteration: 3500. Loss: 1.1922551393508911. Accuracy: 51.22857142857143\n",
            "Iteration: 4000. Loss: 0.7312410473823547. Accuracy: 61.93571428571428\n",
            "Iteration: 4500. Loss: 0.9597679972648621. Accuracy: 66.32857142857142\n",
            "Iteration: 5000. Loss: 0.7918895483016968. Accuracy: 71.87857142857143\n",
            "Iteration: 5500. Loss: 0.565921425819397. Accuracy: 74.02142857142857\n",
            "Iteration: 6000. Loss: 0.8200152516365051. Accuracy: 71.9\n",
            "Iteration: 6500. Loss: 0.3573494553565979. Accuracy: 76.75\n",
            "Iteration: 7000. Loss: 0.6967231631278992. Accuracy: 74.15714285714286\n",
            "Iteration: 7500. Loss: 1.0944024324417114. Accuracy: 77.90714285714286\n",
            "Iteration: 8000. Loss: 0.42304354906082153. Accuracy: 78.93571428571428\n",
            "Iteration: 8500. Loss: 0.5715842247009277. Accuracy: 79.32142857142857\n",
            "Iteration: 9000. Loss: 0.5595870614051819. Accuracy: 78.50714285714285\n",
            "Iteration: 9500. Loss: 1.2614446878433228. Accuracy: 78.96428571428571\n",
            "Iteration: 10000. Loss: 0.5906303524971008. Accuracy: 80.3\n",
            "Iteration: 10500. Loss: 0.4051392078399658. Accuracy: 80.87857142857143\n",
            "Iteration: 11000. Loss: 0.7128384113311768. Accuracy: 81.12857142857143\n",
            "Iteration: 11500. Loss: 0.5559735894203186. Accuracy: 82.44285714285714\n",
            "Iteration: 12000. Loss: 0.4323251247406006. Accuracy: 83.64285714285714\n",
            "Iteration: 12500. Loss: 0.5417448282241821. Accuracy: 83.22857142857143\n",
            "Iteration: 13000. Loss: 0.5357124209403992. Accuracy: 83.02857142857142\n",
            "Iteration: 13500. Loss: 0.629152774810791. Accuracy: 83.97857142857143\n",
            "Iteration: 14000. Loss: 0.2623785138130188. Accuracy: 84.37142857142857\n",
            "Iteration: 14500. Loss: 0.2992149889469147. Accuracy: 84.37857142857143\n",
            "Iteration: 15000. Loss: 1.006193995475769. Accuracy: 84.58571428571429\n",
            "Iteration: 15500. Loss: 0.5332455635070801. Accuracy: 84.17142857142858\n",
            "Iteration: 16000. Loss: 0.48555421829223633. Accuracy: 85.89285714285714\n",
            "Iteration: 16500. Loss: 0.17369604110717773. Accuracy: 85.14285714285714\n",
            "Iteration: 17000. Loss: 0.631740391254425. Accuracy: 84.12857142857143\n",
            "Iteration: 17500. Loss: 0.560492753982544. Accuracy: 85.8\n",
            "Iteration: 18000. Loss: 0.3471631407737732. Accuracy: 83.44285714285714\n",
            "Iteration: 18500. Loss: 0.22050049901008606. Accuracy: 86.25714285714285\n",
            "Iteration: 19000. Loss: 0.36032068729400635. Accuracy: 85.67142857142858\n",
            "Iteration: 19500. Loss: 0.438831627368927. Accuracy: 85.45714285714286\n"
          ]
        }
      ]
    },
    {
      "cell_type": "code",
      "metadata": {
        "colab": {
          "base_uri": "https://localhost:8080/",
          "height": 279
        },
        "id": "x4Bi-RfdfIyO",
        "outputId": "2b99935f-9528-4ee1-e0e5-ef9accad2bf1"
      },
      "source": [
        "plt.plot(Iteration_loss)\n",
        "plt.ylabel('Cross Entropy Loss')\n",
        "plt.xlabel('Iteration (in every 500)')\n",
        "plt.show()"
      ],
      "execution_count": null,
      "outputs": [
        {
          "output_type": "display_data",
          "data": {
            "image/png": "[encoded data removed]",
            "text/plain": [
              "<Figure size 432x288 with 1 Axes>"
            ]
          },
          "metadata": {
            "needs_background": "light"
          }
        }
      ]
    },
    {
      "cell_type": "code",
      "metadata": {
        "id": "IK5J4VNqAiHp"
      },
      "source": [
        "save_model = True\n",
        "model_save_name = 'experiment1.pt'\n",
        "path = F\"/content/drive/MyDrive/soft com lab/assignment2{model_save_name}\" \n",
        "\n",
        "if save_model is True:\n",
        "    # Saves only parameters\n",
        "    # wights & biases\n",
        "    #torch.save(model.state_dict(), root_path + 'linear_regression.pkl') \n",
        "    torch.save(model.state_dict(), path)"
      ],
      "execution_count": null,
      "outputs": []
    }
  ]
}